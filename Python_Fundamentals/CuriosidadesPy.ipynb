{
 "cells": [
  {
   "cell_type": "code",
   "execution_count": 3,
   "metadata": {},
   "outputs": [
    {
     "name": "stdout",
     "output_type": "stream",
     "text": [
      "Índice: 0 Valor: -1\n",
      "Índice: 1 Valor: 2\n",
      "Índice: 2 Valor: -11\n",
      "Índice: 3 Valor: 8\n",
      "Índice: 4 Valor: 6\n",
      "Números positivos: [2, 8, 6]\n",
      "Lista actualizada: [-1, -6, -11, 4, -5]\n"
     ]
    }
   ],
   "source": [
    "lista = [-1, 2, -6, -11, 8, 4, 6, -5]\n",
    "numero_positivos = []\n",
    "\n",
    "for indice, numero in enumerate(lista):\n",
    "    print(\"Índice:\", indice, \"Valor:\", numero)\n",
    "    if numero > 0:\n",
    "        numero_positivos.append(numero)\n",
    "        lista.remove(numero)\n",
    "print(\"Números positivos:\", numero_positivos)\n",
    "print(\"Lista actualizada:\", lista)"
   ]
  },
  {
   "cell_type": "code",
   "execution_count": 2,
   "metadata": {},
   "outputs": [
    {
     "name": "stdout",
     "output_type": "stream",
     "text": [
      "-1\n",
      "2\n",
      "-6\n",
      "-11\n",
      "8\n",
      "4\n",
      "6\n",
      "-5\n",
      "[2, 8, 4, 6]\n",
      "[-1, -6, -11, -5]\n"
     ]
    }
   ],
   "source": [
    "lista = [-1, 2, -6, -11, 8, 4, 6, -5]\n",
    "numero_positivos = []\n",
    "lista_aux = lista.copy()\n",
    "for numero in lista_aux:\n",
    "    print(numero)\n",
    "    if numero > 0:\n",
    "        numero_positivos.append(numero)\n",
    "        lista.remove(numero)\n",
    "print(numero_positivos)\n",
    "print(lista)"
   ]
  },
  {
   "cell_type": "code",
   "execution_count": 72,
   "metadata": {},
   "outputs": [
    {
     "name": "stdout",
     "output_type": "stream",
     "text": [
      "x: 2027010392592\n",
      "y: 2027010392592\n",
      "True\n",
      "True\n",
      "z: 2027010392592\n",
      "y: 2027010392912\n",
      "False\n",
      "False\n"
     ]
    }
   ],
   "source": [
    "#id de las variables.\n",
    "x = 10\n",
    "y = 10\n",
    "print(\"x:\" , id(x))\n",
    "print(\"y:\" , id(y))\n",
    "z=y\n",
    "print(z is y)\n",
    "print(z == y)\n",
    "y=20\n",
    "print(\"z:\" ,id(z))\n",
    "print(\"y:\" ,id(y))\n",
    "\n",
    "print(z is y)\n",
    "print(z==y)"
   ]
  },
  {
   "cell_type": "code",
   "execution_count": 5,
   "metadata": {},
   "outputs": [
    {
     "name": "stdout",
     "output_type": "stream",
     "text": [
      "a: 2027010392592\n",
      "b: 2027010392592\n",
      "***\n",
      "a: 2027010392912\n",
      "b: 2027010392592\n"
     ]
    }
   ],
   "source": [
    "a = 10 # a apunta a 10\n",
    "b = a  # b apunta a b que es 10\n",
    "print(\"a:\" , id(a))\n",
    "print(\"b:\" , id(b)) # tienen el mismo id de memoria\n",
    "print(\"***\")\n",
    "a = 20\n",
    "print(\"a:\" , id(a)) # a apunta a 20 ahora\n",
    "print(\"b:\" , id(b)) # b sigue apuntando a la dirección que apuntaba a anteriormente, 10."
   ]
  },
  {
   "cell_type": "code",
   "execution_count": 39,
   "metadata": {},
   "outputs": [
    {
     "name": "stdout",
     "output_type": "stream",
     "text": [
      "Hola, me llaman 'Leonardo'.\n",
      "Hola, me llaman \"Leonardo\".\n",
      "***\n",
      "Las comillas triples las\n",
      "usaremos cuando queramos escribir\n",
      "en varias líneas distintas.\n",
      "***\n",
      "H\n",
      "o\n",
      "l\n",
      "a\n"
     ]
    },
    {
     "ename": "TypeError",
     "evalue": "'str' object does not support item assignment",
     "output_type": "error",
     "traceback": [
      "\u001b[1;31m---------------------------------------------------------------------------\u001b[0m",
      "\u001b[1;31mTypeError\u001b[0m                                 Traceback (most recent call last)",
      "Cell \u001b[1;32mIn[39], line 23\u001b[0m\n\u001b[0;32m     21\u001b[0m \u001b[38;5;66;03m# Los str son inmutables en python y por lo tanto no podremos modificar un caracter del mismo.\u001b[39;00m\n\u001b[0;32m     22\u001b[0m msg \u001b[38;5;241m=\u001b[39m \u001b[38;5;124m\"\u001b[39m\u001b[38;5;124mhola\u001b[39m\u001b[38;5;124m\"\u001b[39m\n\u001b[1;32m---> 23\u001b[0m \u001b[43mmsg\u001b[49m\u001b[43m[\u001b[49m\u001b[38;5;241;43m0\u001b[39;49m\u001b[43m]\u001b[49m \u001b[38;5;241m=\u001b[39m \u001b[38;5;124m\"\u001b[39m\u001b[38;5;124mH\u001b[39m\u001b[38;5;124m\"\u001b[39m\n",
      "\u001b[1;31mTypeError\u001b[0m: 'str' object does not support item assignment"
     ]
    }
   ],
   "source": [
    "# Curiosidades strings.\n",
    "# Podemos usar \"\" o ''\n",
    "print(\"Hola, me llaman 'Leonardo'.\")\n",
    "print('Hola, me llaman \"Leonardo\".')\n",
    "# El uso es indistinto pero si debemos usar comillas en el str debemos mezclarlas.\n",
    "\n",
    "print(\"***\")\n",
    "\n",
    "# Uso comillas '''\n",
    "print('''Las comillas triples las\n",
    "usaremos cuando queramos escribir\n",
    "en varias líneas distintas.''')\n",
    "print(\"***\")\n",
    "\n",
    "# Podemos iterar en el str como si fuera una lista\n",
    "for caracter in \"Hola\":\n",
    "    print(caracter)\n",
    "\n",
    "# Los str son inmutables en python y por lo tanto no podremos modificar un caracter del mismo.\n",
    "msg = \"hola\"\n",
    "msg[0] = \"H\" #TypeError: 'str' object does not support item assignment\n"
   ]
  },
  {
   "cell_type": "code",
   "execution_count": 41,
   "metadata": {},
   "outputs": [
    {
     "name": "stdout",
     "output_type": "stream",
     "text": [
      "holaholahola\n",
      "***\n",
      "Hol\n",
      "Hol\n",
      "mundo\n",
      "l ud\n",
      "Hl ud\n",
      "odnum aloH\n"
     ]
    }
   ],
   "source": [
    "# Curiosidad, PODEMOS MULTIPLICAR STRS.\n",
    "print(\"hola\" * 3)\n",
    "\n",
    "print(\"***\")\n",
    "\n",
    "# Al igual que con las lista y tuplas podemos generar slice.\n",
    "print('Hola mundo'[0:3])\n",
    "print('Hola mundo'[:3])\n",
    "print('Hola mundo'[5:])\n",
    "print('Hola mundo'[2:9:2])\n",
    "print('Hola mundo'[::2])\n",
    "print('Hola mundo'[::-1])"
   ]
  },
  {
   "cell_type": "code",
   "execution_count": 69,
   "metadata": {},
   "outputs": [
    {
     "name": "stdout",
     "output_type": "stream",
     "text": [
      "True\n",
      "m1: 2027114578480\n",
      "m2: 2027114578480\n",
      "----\n",
      "False\n",
      "m3: 2027114994096\n",
      "m4: 2027114991920\n",
      "----\n",
      "True\n",
      "----\n",
      "True\n",
      "2027090080048 2027090080048\n",
      "False\n",
      "2027114580592 2027114587696\n"
     ]
    }
   ],
   "source": [
    "# String interning: proceso de almacenar una sola copia de un string en memoria.\n",
    "# Es interesante ver como Python maneja la memoria cuando crea objetos inmutables.\n",
    "# Recordar que Str es inmutable en Python.\n",
    "\n",
    "m1 = \"Palabra\"\n",
    "m2 = \"Palabra\"\n",
    "print(m1 is m2)\n",
    "print(\"m1:\" , id(m1))\n",
    "print(\"m2:\" , id(m2))\n",
    "\n",
    "print(\"----\")\n",
    "\n",
    "m3 = \"Palabra!\"\n",
    "m4 = \"Palabra!\"\n",
    "print(m3 is m4)\n",
    "print(\"m3:\" , id(m3))\n",
    "print(\"m4:\" , id(m4))\n",
    "\n",
    "''' REGLAS PARA EL STRING INTERNING\n",
    "    A VECES ESTAS NORMAS NO SE CUMPLEN A RAJATABLA.\n",
    "    Para que unos strings puedan ser almacenados una sola vez, estos debe de cumplir con por lo menos una de las siguientes reglas.\n",
    "\n",
    "    - Todos los strings longitud 0 o longitud 1 serán interning. \n",
    "    - Todos los strings cuya longitud sea mayor a 4096 caracteres no sera candidato a interning.\n",
    "    - Si un string contiene cualquier carácter que no sea una letra ASCII, un dígito o un guión bajo, no será Interning.\n",
    "'''\n",
    "print(\"----\")\n",
    "\n",
    "e = 'abcd' * 1024  # No será interned porque tiene más de 4096 caracteres\n",
    "f = 'abcd' * 1024  # No será interned porque tiene más de 4096 caracteres\n",
    "print(e is f)  # False, 'e' y 'f' son objetos diferentes en memoria\n",
    "\n",
    "print(\"----\")\n",
    "\n",
    "guion1 = 'guion_bajo'\n",
    "guion2 = 'guion_bajo'\n",
    "print(guion1 is guion2)\n",
    "print(id(guion1), id(guion2))\n",
    "guion1 = 'guion bajo'\n",
    "guion2 = 'guion bajo'\n",
    "print(guion1 is guion2)\n",
    "print(id(guion1), id(guion2))\n"
   ]
  },
  {
   "cell_type": "code",
   "execution_count": 6,
   "metadata": {},
   "outputs": [
    {
     "name": "stdout",
     "output_type": "stream",
     "text": [
      "lista1: [1, 2, 3, 4, 5] id:  2027090845184\n",
      "lista2: [1, 2, 3, 4, 5] id:  2027090845184\n",
      "***\n",
      "lista1: [10, 2, 3, 4, 5] id:  2027090845184\n",
      "lista2: [10, 2, 3, 4, 5] id:  2027090845184\n",
      "***\n",
      "lista1: [10, 2, 3, 4, 5] id:  2027090851648\n",
      "lista2: [1, 2, 3, 4, 5] id:  2027090458624\n"
     ]
    }
   ],
   "source": [
    "# curiosidad con las listas.\n",
    "lista1 = [1, 2, 3, 4, 5]\n",
    "lista2 = lista1\n",
    "print(\"lista1:\", lista1, \"id: \", id(lista1))\n",
    "print(\"lista2:\", lista2, \"id: \", id(lista2))\n",
    "print(\"***\")\n",
    "lista1[0]=10 # En este caso como está apuntando a la misma dirección, si cambias lita1[0] te cambia tmb el valor para lista2[0]\n",
    "print(\"lista1:\", lista1, \"id: \", id(lista1))\n",
    "print(\"lista2:\", lista2, \"id: \", id(lista2))\n",
    "print(\"***\")\n",
    "#PAra evitar eso tienes que hacer una copia y no una asignación.\n",
    "lista1 = [1, 2, 3, 4, 5]\n",
    "lista2 = lista1.copy()  # también valdría lista2 = lista1 [:]\n",
    "lista1[0]=10 \n",
    "print(\"lista1:\", lista1, \"id: \", id(lista1))\n",
    "print(\"lista2:\", lista2, \"id: \", id(lista2))"
   ]
  },
  {
   "cell_type": "code",
   "execution_count": 7,
   "metadata": {},
   "outputs": [
    {
     "name": "stdout",
     "output_type": "stream",
     "text": [
      "lista1: [1, 2, 3, 4, 5] id:  2027090663488\n",
      "lista2: [1, 2, 3, 4, 5] id:  2027090663488\n",
      "***\n",
      "l1: [1, 2, 3] id:  2027090458624\n",
      "l2: [1, 2, 3] id:  2027090673152\n",
      "***\n",
      "lista1 is lista2: True\n",
      "l1 is l2: False\n",
      "***\n",
      "lista1 == lista2: True\n",
      "l1 == l2: True\n"
     ]
    }
   ],
   "source": [
    "#diferencia entre is y ==\n",
    "lista1 = [1, 2, 3, 4, 5]\n",
    "lista2 = lista1\n",
    "print(\"lista1:\", lista1, \"id: \", id(lista1))\n",
    "print(\"lista2:\", lista2, \"id: \", id(lista2))\n",
    "print(\"***\")\n",
    "\n",
    "l1 = [1,2,3]\n",
    "l2 = [1,2,3]\n",
    "print(\"l1:\", l1, \"id: \", id(l1))\n",
    "print(\"l2:\", l2, \"id: \", id(l2))\n",
    "print(\"***\")\n",
    "\n",
    "print(\"lista1 is lista2:\", lista1 is lista2)\n",
    "print(\"l1 is l2:\", l1 is l2)\n",
    "print(\"***\")\n",
    "print(\"lista1 == lista2:\", lista1 == lista2)\n",
    "print(\"l1 == l2:\", l1 == l2)\n",
    "\n",
    "# is nos permite conocer si 2 objetos son el mismo.\n",
    "# == nos permite conocer si los valores son los mismos.\n"
   ]
  },
  {
   "cell_type": "code",
   "execution_count": 26,
   "metadata": {},
   "outputs": [
    {
     "name": "stdout",
     "output_type": "stream",
     "text": [
      "Contenido variable:  Variable a , tipo:  <class 'str'>\n",
      "Contenido variable:  3 , tipo:  <class 'int'>\n",
      "Contenido variable:  3.58 , tipo:  <class 'float'>\n",
      "Contenido variable:  True , tipo:  <class 'bool'>\n",
      "****\n"
     ]
    }
   ],
   "source": [
    "#Tipado dinámico.\n",
    "var_a =\"Variable a\" #string\n",
    "print(\"Contenido variable: \", var_a, \", tipo: \" , type(var_a))\n",
    "var_a = 3\n",
    "print(\"Contenido variable: \", var_a, \", tipo: \" , type(var_a))\n",
    "var_a = 3.58\n",
    "print(\"Contenido variable: \", var_a, \", tipo: \" , type(var_a))\n",
    "var_a = True\n",
    "print(\"Contenido variable: \", var_a, \", tipo: \" , type(var_a))\n",
    "\n",
    "# Hay que tener cuidado con las variables pq pueden de cambiar de tipo fácilmente y python no \"protesta\".\n",
    "\n",
    "## Para mitigar esta casualidad si fuera necesario, existe la Anotation Type para denotar de forma explicita el tipo de variable que definimos.\n",
    "\n",
    "## Ejemplos de Anotation Type\n",
    "# NOTA: Sólo es una manera de INDICAR en el código que tipo de datos esperamos, \n",
    "# pero no controla el tipado dinámico ya que podemos seguir cambiando el tipo de dato, \n",
    "# pero ayuda a la legibilidad del código para otros desarroladores.\n",
    "\n",
    "var_a: int = 10\n",
    "var_b: float = 3.14\n",
    "var_c: bool = True\n",
    "var_d: str = \"string\"\n",
    "\n",
    "lista_tipado : list[int] = [1,2,3,4,5]\n",
    "\n",
    "tupla_tipado : tuple[str, bool, int] = (\"a\",True, 1)\n",
    "\n",
    "dicc_tipado : dict[str:int] = {'usuario1':10, 'usuario2':20}\n",
    "\n",
    "def funcion (lista_tipado:list[int])->int:\n",
    "    return sum(lista_tipado)\n",
    "\n",
    "class Clase():\n",
    "    def __init__(self, nombre:str, edad:int) -> None:\n",
    "        self.nombre = nombre\n",
    "        self.edad = edad\n",
    "    \n",
    "    def usuario(self)->str:\n",
    "        return f'hola, mi nombre es {self.nombre} y mi edad es de: {self.edad}'\n",
    "    \n",
    "\n",
    "# Las anotaciones de tipo son opcionales y no afectan al comportamiento del programa, pero si prodrían ser\n",
    "# útiles para herramientas de análisis estático como \"mypy\"\n",
    "\n"
   ]
  },
  {
   "cell_type": "code",
   "execution_count": 2,
   "metadata": {},
   "outputs": [
    {
     "name": "stdout",
     "output_type": "stream",
     "text": [
      "1\n",
      "3\n",
      "5\n",
      "5\n"
     ]
    }
   ],
   "source": [
    "for i in [0,1,2,3,4]:\n",
    "    print(i)\n",
    "    if i % 2 == 0:\n",
    "        i= i+1\n",
    "        print(i)\n",
    "print(i)"
   ]
  }
 ],
 "metadata": {
  "kernelspec": {
   "display_name": "py3.10",
   "language": "python",
   "name": "python3"
  },
  "language_info": {
   "codemirror_mode": {
    "name": "ipython",
    "version": 3
   },
   "file_extension": ".py",
   "mimetype": "text/x-python",
   "name": "python",
   "nbconvert_exporter": "python",
   "pygments_lexer": "ipython3",
   "version": "3.10.10"
  }
 },
 "nbformat": 4,
 "nbformat_minor": 2
}
