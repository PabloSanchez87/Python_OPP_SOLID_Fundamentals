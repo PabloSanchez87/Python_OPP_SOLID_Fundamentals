{
 "cells": [
  {
   "cell_type": "markdown",
   "metadata": {},
   "source": [
    "# Funcionamiento de la Búsqueda Binaria\n",
    "\n",
    "    - Inicio y Fin: Se define un rango inicial que abarca toda la lista, con índices inicio y fin.\n",
    "\n",
    "    - Punto Medio: Se calcula el índice del punto medio de este rango.\n",
    "\n",
    "    - Comparación:\n",
    "        - Si el elemento en el punto medio es igual al elemento buscado, la búsqueda ha terminado.\n",
    "        - Si el elemento en el punto medio es mayor que el elemento buscado, se repite el proceso \n",
    "            en la mitad inferior de la lista (desplazando fin al índice medio - 1).\n",
    "        - Si el elemento en el punto medio es menor que el elemento buscado, se repite el proceso \n",
    "            en la mitad superior de la lista (desplazando inicio al índice medio + 1).\n",
    "\n",
    "    - Repetición: El proceso se repite hasta que se encuentra el elemento o el rango de búsqueda\n",
    "            se reduce a un tamaño no válido (inicio > fin)."
   ]
  },
  {
   "cell_type": "code",
   "execution_count": 2,
   "metadata": {},
   "outputs": [
    {
     "name": "stdout",
     "output_type": "stream",
     "text": [
      "El número 42 se encuentra en el índice: 8\n"
     ]
    }
   ],
   "source": [
    "def busqueda_binaria(lista, objetivo, inicio=0, fin=None):\n",
    "    fin = len(lista) - 1\n",
    "\n",
    "    while inicio <= fin:\n",
    "        medio = (inicio + fin) // 2\n",
    "        if lista[medio] == objetivo:\n",
    "            return medio  # Elemento encontrado\n",
    "        elif lista[medio] < objetivo:\n",
    "            inicio = medio + 1\n",
    "        else:\n",
    "            fin = medio - 1\n",
    "\n",
    "    return -1  # Elemento no encontrado\n",
    "\n",
    "# Lista ordenada\n",
    "numeros = [3, 10, 19, 21, 32, 42, 56, 67, 81, 95]\n",
    "\n",
    "# Buscar el número 42\n",
    "resultado = busqueda_binaria(numeros, 81)\n",
    "print(f\"El número 42 se encuentra en el índice: {resultado}\")\n"
   ]
  }
 ],
 "metadata": {
  "kernelspec": {
   "display_name": "vPython_practice",
   "language": "python",
   "name": "python3"
  },
  "language_info": {
   "codemirror_mode": {
    "name": "ipython",
    "version": 3
   },
   "file_extension": ".py",
   "mimetype": "text/x-python",
   "name": "python",
   "nbconvert_exporter": "python",
   "pygments_lexer": "ipython3",
   "version": "3.10.12"
  }
 },
 "nbformat": 4,
 "nbformat_minor": 2
}
