{
 "cells": [
  {
   "cell_type": "markdown",
   "metadata": {},
   "source": [
    "nueva_lista = [expresion for elemento in lista_original]"
   ]
  },
  {
   "cell_type": "code",
   "execution_count": 2,
   "metadata": {},
   "outputs": [
    {
     "name": "stdout",
     "output_type": "stream",
     "text": [
      "[1, 4, 9, 16, 25]\n"
     ]
    }
   ],
   "source": [
    "# Método tradiciona con bucle\n",
    "numeros = [1,2,3,4,5]\n",
    "cuadrados = []\n",
    "for num in numeros:\n",
    "    cuadrados.append(num**2)\n",
    "\n",
    "print(cuadrados)"
   ]
  },
  {
   "cell_type": "markdown",
   "metadata": {},
   "source": [
    "1. El intérpetre de python recorre cada elemento num en la lista números.\n",
    "2. Para cada num, se evalúo la expresion num**2, es decir, se eleva al cuadrado.\n",
    "3. El resultado de la expresión se agrega a la lista resultante cuadrados.\n",
    "4. Este proceso se repite para cada elemento num en la lista números.\n",
    "5. Finalmente, se obtiene la lista cuadrados que contiene los cuadrados de los elementos de números."
   ]
  },
  {
   "cell_type": "code",
   "execution_count": 3,
   "metadata": {},
   "outputs": [
    {
     "name": "stdout",
     "output_type": "stream",
     "text": [
      "[1, 4, 9, 16, 25]\n"
     ]
    }
   ],
   "source": [
    "# Compresión de listas\n",
    "\n",
    "cuadrados = [num**2 for num in numeros]\n",
    "print(cuadrados)"
   ]
  },
  {
   "cell_type": "markdown",
   "metadata": {},
   "source": [
    "# Filtrar números pares de una lista."
   ]
  },
  {
   "cell_type": "code",
   "execution_count": 4,
   "metadata": {},
   "outputs": [
    {
     "name": "stdout",
     "output_type": "stream",
     "text": [
      "[2, 4, 6, 8, 10]\n"
     ]
    }
   ],
   "source": [
    "# Método tradicional con bucle \n",
    "numeros = [1,2,3,4,5,6,7,8,9,10]\n",
    "pares = []\n",
    "for num in numeros:\n",
    "    if num % 2 == 0:\n",
    "        pares.append(num)\n",
    "        \n",
    "print(pares)"
   ]
  },
  {
   "cell_type": "code",
   "execution_count": 5,
   "metadata": {},
   "outputs": [
    {
     "name": "stdout",
     "output_type": "stream",
     "text": [
      "[2, 4, 6, 8, 10]\n"
     ]
    }
   ],
   "source": [
    "# Compresión de listas.\n",
    "pares = [num for num in numeros if num % 2 == 0]\n",
    "print(pares)"
   ]
  },
  {
   "cell_type": "markdown",
   "metadata": {},
   "source": [
    "# Crear una lista de tuplas a partir de dos listas"
   ]
  },
  {
   "cell_type": "code",
   "execution_count": 8,
   "metadata": {},
   "outputs": [
    {
     "name": "stdout",
     "output_type": "stream",
     "text": [
      "[('Pablo', 37), ('Laura', 36), ('David', 70), ('Carmen', 66)]\n"
     ]
    }
   ],
   "source": [
    "# Método tradicional.\n",
    "nombres = [\"Pablo\", \"Laura\", \"David\", \"Carmen\"]\n",
    "edades = [37,36,70,66]\n",
    "personas = []\n",
    "for i in range(len(nombres)):\n",
    "    personas.append((nombres[i], edades[i]))\n",
    "    \n",
    "print(personas)"
   ]
  },
  {
   "cell_type": "code",
   "execution_count": 9,
   "metadata": {},
   "outputs": [
    {
     "name": "stdout",
     "output_type": "stream",
     "text": [
      "[('Pablo', 37), ('Laura', 36), ('David', 70), ('Carmen', 66)]\n"
     ]
    }
   ],
   "source": [
    "# Compresion list\n",
    "personas = [(nombres[i], edades[i]) for i in range(len(nombres))]\n",
    "\n",
    "print(personas)"
   ]
  },
  {
   "cell_type": "markdown",
   "metadata": {},
   "source": [
    "# Crear una lista con elementos transformados condionalmente:"
   ]
  },
  {
   "cell_type": "code",
   "execution_count": 10,
   "metadata": {},
   "outputs": [
    {
     "name": "stdout",
     "output_type": "stream",
     "text": [
      "['impar', 'par', 'impar', 'par', 'impar']\n"
     ]
    }
   ],
   "source": [
    "# Método tradiconal\n",
    "numeros = [1,2,3,4,5]\n",
    "transformados = []\n",
    "for num in numeros:\n",
    "    if num % 2 == 0:\n",
    "        transformados.append(\"par\")\n",
    "    else:\n",
    "        transformados.append(\"impar\")\n",
    "        \n",
    "print(transformados)"
   ]
  },
  {
   "cell_type": "code",
   "execution_count": 11,
   "metadata": {},
   "outputs": [
    {
     "name": "stdout",
     "output_type": "stream",
     "text": [
      "['impar', 'par', 'impar', 'par', 'impar']\n"
     ]
    }
   ],
   "source": [
    "# Compresion List\n",
    "transformados = [\"par\" if num % 2 == 0 else \"impar\" for num in numeros]\n",
    "\n",
    "print(transformados)"
   ]
  }
 ],
 "metadata": {
  "kernelspec": {
   "display_name": "py3.10",
   "language": "python",
   "name": "python3"
  },
  "language_info": {
   "codemirror_mode": {
    "name": "ipython",
    "version": 3
   },
   "file_extension": ".py",
   "mimetype": "text/x-python",
   "name": "python",
   "nbconvert_exporter": "python",
   "pygments_lexer": "ipython3",
   "version": "3.10.10"
  }
 },
 "nbformat": 4,
 "nbformat_minor": 2
}
